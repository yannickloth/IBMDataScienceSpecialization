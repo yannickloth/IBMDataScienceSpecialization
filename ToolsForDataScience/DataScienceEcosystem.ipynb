{
 "cells": [
  {
   "cell_type": "markdown",
   "id": "076ffc98-d110-4c0d-9830-94ba5f20bfd4",
   "metadata": {},
   "source": [
    "# Data Science Tools and Ecosystem"
   ]
  },
  {
   "cell_type": "markdown",
   "id": "e793d061-9f2f-4d80-b381-185dccede745",
   "metadata": {},
   "source": [
    "In this notebook, Data Science Tools and Ecosystem are summarized."
   ]
  },
  {
   "cell_type": "markdown",
   "id": "26209979-8604-4489-b396-bfc92dc7cf2e",
   "metadata": {},
   "source": [
    "Some of the popular languages that Data Scientists use are:\n",
    "1. python\n",
    "1. R\n",
    "1. SQL"
   ]
  },
  {
   "cell_type": "markdown",
   "id": "22d2586a-0fa3-45bf-8842-3340b510010d",
   "metadata": {},
   "source": [
    "Some of the commonly used libraries used by Data Scientists include:\n",
    "1. pandas\n",
    "1. numpy\n",
    "1. matplotlib"
   ]
  },
  {
   "cell_type": "markdown",
   "id": "595de77b-dbb9-4244-b93d-d368597bd38d",
   "metadata": {},
   "source": [
    "| Data Science Tools |\n",
    "----------------------\n",
    "|RStudio             |\n",
    "|Jupyter Notebooks   |\n",
    "|JupyterLab          |"
   ]
  },
  {
   "cell_type": "markdown",
   "id": "1b58fed4-71c4-44c8-9d97-3650b2d22afb",
   "metadata": {
    "tags": []
   },
   "source": [
    "### Below are a few examples of evaluating arithmetic expressions in Python"
   ]
  },
  {
   "cell_type": "code",
   "execution_count": 5,
   "id": "faef7074-e320-4366-8a3c-8f13a96ddc2c",
   "metadata": {
    "tags": []
   },
   "outputs": [
    {
     "data": {
      "text/plain": [
       "17"
      ]
     },
     "execution_count": 5,
     "metadata": {},
     "output_type": "execute_result"
    }
   ],
   "source": [
    "# This is a simple arithmetic expression to multiply then add integers.\n",
    "(3*4)+5"
   ]
  },
  {
   "cell_type": "code",
   "execution_count": 17,
   "id": "c995e995-dc04-4031-9fdb-9c348cd10156",
   "metadata": {
    "tags": []
   },
   "outputs": [
    {
     "data": {
      "text/plain": [
       "3.3333333333333335"
      ]
     },
     "execution_count": 17,
     "metadata": {},
     "output_type": "execute_result"
    }
   ],
   "source": [
    "# This will convert 200 minutes to hours by diving by 60\n",
    "200 / 60"
   ]
  },
  {
   "cell_type": "markdown",
   "id": "c1ffb547-8145-4388-8e41-48e24a7c8ed3",
   "metadata": {},
   "source": [
    "**Objectives:**\n",
    "\n",
    "- List popular languages for Data Science\n",
    "- List commonly used libraries used by Data Scientists\n",
    "- Show how to write comments in Python\n",
    "- Show how to evaluate artihmetic expressions in Python\n"
   ]
  },
  {
   "cell_type": "markdown",
   "id": "fd4eb918-3af3-4b88-9efa-7e16ffa7750e",
   "metadata": {
    "tags": []
   },
   "source": [
    "## Author\n",
    "\n",
    "Nicky"
   ]
  }
 ],
 "metadata": {
  "kernelspec": {
   "display_name": "Python 3 (ipykernel)",
   "language": "python",
   "name": "python3"
  },
  "language_info": {
   "codemirror_mode": {
    "name": "ipython",
    "version": 3
   },
   "file_extension": ".py",
   "mimetype": "text/x-python",
   "name": "python",
   "nbconvert_exporter": "python",
   "pygments_lexer": "ipython3",
   "version": "3.10.9"
  }
 },
 "nbformat": 4,
 "nbformat_minor": 5
}
